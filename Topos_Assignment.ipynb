{
 "cells": [
  {
   "cell_type": "markdown",
   "metadata": {},
   "source": [
    "# Topos Assignment\n",
    "https://docs.google.com/document/d/1AEywYFTjh4RJla8hnBF16G5y-7vDMbF9xHVsyGG8vwo/edit\n",
    "\n",
    "This Assigment is my attemt to scrape various kinds of data from wikipedia alone for the [cities in united states](https://en.wikipedia.org/wiki/List_of_United_States_cities_by_population) ranked by population.<br>\n",
    "\n",
    "I added six more coulmns in addition to the existing columns in the table:\n",
    "\n",
    "- *States Abreviation*\n",
    "- *City webpage url*\n",
    "- *% of White Peaople*\n",
    "- *% of Black Peaople*\n",
    "- *Latitude*\n",
    "- *Longitude*"
   ]
  },
  {
   "cell_type": "markdown",
   "metadata": {},
   "source": [
    "#### I will divide the process into there parts\n",
    "1. Part I\n",
    " \n",
    " 1. Getting the intial Table\n",
    " 2. Web scraping city wikilinks\n",
    " 3. Adding states abbreviations\n",
    "\n",
    "\n",
    "2. Part II\n",
    " \n",
    " 1. Web scraping and parsing Demographics\n",
    " 2. Adding location data\n",
    " 3.\n",
    "\n",
    "\n",
    "3. Part III\n",
    " \n",
    " 1. Vizualization\n",
    " 2. Final Thoughts"
   ]
  },
  {
   "cell_type": "markdown",
   "metadata": {},
   "source": [
    "# Part I"
   ]
  },
  {
   "cell_type": "code",
   "execution_count": 1,
   "metadata": {},
   "outputs": [],
   "source": [
    "# import all the required libraries\n",
    "import pandas as pd\n",
    "import bs4 as bs\n",
    "import pickle\n",
    "import requests\n",
    "import webbrowser\n",
    "import numpy as np\n",
    "import re\n",
    "from urllib.request import urlopen, Request"
   ]
  },
  {
   "cell_type": "code",
   "execution_count": 2,
   "metadata": {},
   "outputs": [],
   "source": [
    "#using pandas to import all the tables from the wiki page\n",
    "dfs = pd.read_html('https://en.wikipedia.org/wiki/List_of_United_States_cities_by_population')"
   ]
  },
  {
   "cell_type": "code",
   "execution_count": 3,
   "metadata": {},
   "outputs": [],
   "source": [
    "# function to extract the required data\n",
    "def find_table(column1,column2,dataset):\n",
    "    for df in dataset:\n",
    "        if column1 in list(df.columns) or column2 in list(df.columns):\n",
    "            return df "
   ]
  },
  {
   "cell_type": "code",
   "execution_count": 4,
   "metadata": {},
   "outputs": [],
   "source": [
    "# function to parse required text\n",
    "def parse_txt(txt, types):\n",
    "    mats = [] \n",
    "    for p in types: \n",
    "        pattern = re.compile(p)\n",
    "        matches = pattern.finditer(txt)\n",
    "        for match in matches:\n",
    "            mats.append(match.group(0))\n",
    "    return mats"
   ]
  },
  {
   "cell_type": "code",
   "execution_count": 5,
   "metadata": {},
   "outputs": [],
   "source": [
    "data = find_table('City','Location', dfs)"
   ]
  },
  {
   "cell_type": "code",
   "execution_count": 6,
   "metadata": {},
   "outputs": [],
   "source": [
    "#data = data.set_index('2018rank')"
   ]
  },
  {
   "cell_type": "code",
   "execution_count": 7,
   "metadata": {},
   "outputs": [
    {
     "data": {
      "text/html": [
       "<div>\n",
       "<style scoped>\n",
       "    .dataframe tbody tr th:only-of-type {\n",
       "        vertical-align: middle;\n",
       "    }\n",
       "\n",
       "    .dataframe tbody tr th {\n",
       "        vertical-align: top;\n",
       "    }\n",
       "\n",
       "    .dataframe thead th {\n",
       "        text-align: right;\n",
       "    }\n",
       "</style>\n",
       "<table border=\"1\" class=\"dataframe\">\n",
       "  <thead>\n",
       "    <tr style=\"text-align: right;\">\n",
       "      <th></th>\n",
       "      <th>2018rank</th>\n",
       "      <th>City</th>\n",
       "      <th>State[c]</th>\n",
       "      <th>2018estimate</th>\n",
       "      <th>2010Census</th>\n",
       "      <th>Change</th>\n",
       "      <th>2016 land area</th>\n",
       "      <th>2016 land area.1</th>\n",
       "      <th>2016 population density</th>\n",
       "      <th>2016 population density.1</th>\n",
       "      <th>Location</th>\n",
       "    </tr>\n",
       "  </thead>\n",
       "  <tbody>\n",
       "    <tr>\n",
       "      <th>0</th>\n",
       "      <td>1</td>\n",
       "      <td>New York City</td>\n",
       "      <td>New_York</td>\n",
       "      <td>8398748</td>\n",
       "      <td>8175133</td>\n",
       "      <td>+2.74%</td>\n",
       "      <td>301.5 sq mi</td>\n",
       "      <td>780.9 km2</td>\n",
       "      <td>28,317/sq mi</td>\n",
       "      <td>10,933/km2</td>\n",
       "      <td>40°39′49″N 73°56′19″W﻿ / ﻿40.6635°N 73.9387°W</td>\n",
       "    </tr>\n",
       "    <tr>\n",
       "      <th>1</th>\n",
       "      <td>2</td>\n",
       "      <td>Los Angeles</td>\n",
       "      <td>California</td>\n",
       "      <td>3990456</td>\n",
       "      <td>3792621</td>\n",
       "      <td>+5.22%</td>\n",
       "      <td>468.7 sq mi</td>\n",
       "      <td>1,213.9 km2</td>\n",
       "      <td>8,484/sq mi</td>\n",
       "      <td>3,276/km2</td>\n",
       "      <td>34°01′10″N 118°24′39″W﻿ / ﻿34.0194°N 118.4108°W</td>\n",
       "    </tr>\n",
       "    <tr>\n",
       "      <th>2</th>\n",
       "      <td>3</td>\n",
       "      <td>Chicago</td>\n",
       "      <td>Illinois</td>\n",
       "      <td>2705994</td>\n",
       "      <td>2695598</td>\n",
       "      <td>+0.39%</td>\n",
       "      <td>227.3 sq mi</td>\n",
       "      <td>588.7 km2</td>\n",
       "      <td>11,900/sq mi</td>\n",
       "      <td>4,600/km2</td>\n",
       "      <td>41°50′15″N 87°40′54″W﻿ / ﻿41.8376°N 87.6818°W</td>\n",
       "    </tr>\n",
       "    <tr>\n",
       "      <th>3</th>\n",
       "      <td>4</td>\n",
       "      <td>Houston</td>\n",
       "      <td>Texas</td>\n",
       "      <td>2325502</td>\n",
       "      <td>2100263</td>\n",
       "      <td>+10.72%</td>\n",
       "      <td>637.5 sq mi</td>\n",
       "      <td>1,651.1 km2</td>\n",
       "      <td>3,613/sq mi</td>\n",
       "      <td>1,395/km2</td>\n",
       "      <td>29°47′12″N 95°23′27″W﻿ / ﻿29.7866°N 95.3909°W</td>\n",
       "    </tr>\n",
       "    <tr>\n",
       "      <th>4</th>\n",
       "      <td>5</td>\n",
       "      <td>Phoenix</td>\n",
       "      <td>Arizona</td>\n",
       "      <td>1660272</td>\n",
       "      <td>1445632</td>\n",
       "      <td>+14.85%</td>\n",
       "      <td>517.6 sq mi</td>\n",
       "      <td>1,340.6 km2</td>\n",
       "      <td>3,120/sq mi</td>\n",
       "      <td>1,200/km2</td>\n",
       "      <td>33°34′20″N 112°05′24″W﻿ / ﻿33.5722°N 112.0901°W</td>\n",
       "    </tr>\n",
       "  </tbody>\n",
       "</table>\n",
       "</div>"
      ],
      "text/plain": [
       "   2018rank           City    State[c]  2018estimate  2010Census   Change  \\\n",
       "0         1  New York City    New_York       8398748     8175133   +2.74%   \n",
       "1         2    Los Angeles  California       3990456     3792621   +5.22%   \n",
       "2         3        Chicago    Illinois       2705994     2695598   +0.39%   \n",
       "3         4        Houston       Texas       2325502     2100263  +10.72%   \n",
       "4         5        Phoenix     Arizona       1660272     1445632  +14.85%   \n",
       "\n",
       "  2016 land area 2016 land area.1 2016 population density  \\\n",
       "0    301.5 sq mi        780.9 km2            28,317/sq mi   \n",
       "1    468.7 sq mi      1,213.9 km2             8,484/sq mi   \n",
       "2    227.3 sq mi        588.7 km2            11,900/sq mi   \n",
       "3    637.5 sq mi      1,651.1 km2             3,613/sq mi   \n",
       "4    517.6 sq mi      1,340.6 km2             3,120/sq mi   \n",
       "\n",
       "  2016 population density.1                                         Location  \n",
       "0                10,933/km2    40°39′49″N 73°56′19″W﻿ / ﻿40.6635°N 73.9387°W  \n",
       "1                 3,276/km2  34°01′10″N 118°24′39″W﻿ / ﻿34.0194°N 118.4108°W  \n",
       "2                 4,600/km2    41°50′15″N 87°40′54″W﻿ / ﻿41.8376°N 87.6818°W  \n",
       "3                 1,395/km2    29°47′12″N 95°23′27″W﻿ / ﻿29.7866°N 95.3909°W  \n",
       "4                 1,200/km2  33°34′20″N 112°05′24″W﻿ / ﻿33.5722°N 112.0901°W  "
      ]
     },
     "execution_count": 7,
     "metadata": {},
     "output_type": "execute_result"
    }
   ],
   "source": [
    "# altering the data\n",
    "clean = lambda x: x[:x.find('[')] if '[' in x else x\n",
    "add_ = lambda x: x.replace(' ', '_')\n",
    "data['City'] = data['City'].apply(clean)\n",
    "data['State[c]'] = data['State[c]'].apply(add_)\n",
    "data.head()"
   ]
  },
  {
   "cell_type": "code",
   "execution_count": 8,
   "metadata": {},
   "outputs": [
    {
     "name": "stdout",
     "output_type": "stream",
     "text": [
      "The size of the data is (314, 11)\n"
     ]
    }
   ],
   "source": [
    "print('The size of the data is '+str(data.shape))"
   ]
  },
  {
   "cell_type": "markdown",
   "metadata": {},
   "source": [
    "<br>\n",
    "\n",
    "**Leveraging the power of beautiful soup to extract wikipedia links for the cities**\n"
   ]
  },
  {
   "cell_type": "code",
   "execution_count": 9,
   "metadata": {},
   "outputs": [],
   "source": [
    "resp = requests.get('https://en.wikipedia.org/wiki/List_of_United_States_cities_by_population')\n",
    "soup = bs.BeautifulSoup(resp.text, 'lxml')\n",
    "table = soup.findAll('table')\n",
    "Ta = table[4].findAll('a', attrs={'href': re.compile(r'^/[a-z]')})\n",
    "links = []\n",
    "for t in Ta:\n",
    "    links.append('https://en.wikipedia.org'+t.get('href'))"
   ]
  },
  {
   "cell_type": "code",
   "execution_count": 10,
   "metadata": {},
   "outputs": [],
   "source": [
    "us_states = list(set(list(data['State[c]'])))\n",
    "state_link = []\n",
    "for state in us_states:\n",
    "    state_link.append('https://en.wikipedia.org/wiki/'+state)"
   ]
  },
  {
   "cell_type": "code",
   "execution_count": 11,
   "metadata": {},
   "outputs": [],
   "source": [
    "wiki_link = list(set(links)-set(state_link)-{'https://en.wikipedia.org/wiki/Georgia_(U.S._state)',\n",
    " 'https://en.wikipedia.org/wiki/New_York_(state)',\n",
    " 'https://en.wikipedia.org/wiki/Washington_(state)'})\n",
    "\n",
    "wiki_link.sort()"
   ]
  },
  {
   "cell_type": "code",
   "execution_count": 12,
   "metadata": {},
   "outputs": [],
   "source": [
    "st = set(links) - set(wiki_link)\n",
    "state_links = list(st.union(set(state_link)) - {'https://en.wikipedia.org/wiki/Georgia','https://en.wikipedia.org/wiki/New_York','https://en.wikipedia.org/wiki/Washington'})"
   ]
  },
  {
   "cell_type": "code",
   "execution_count": 13,
   "metadata": {},
   "outputs": [],
   "source": [
    "# Getting Abbreviations for all the states in the Table\n",
    "\n",
    "abb = {}\n",
    "for link in state_links:\n",
    "    try:\n",
    "        da = pd.read_html(link)\n",
    "        abb[link] = da[0][da[0].columns[1]][list(da[0][da[0].columns[0]]).index('Abbreviations')][:2]\n",
    "    except:\n",
    "        abb[link] = 'DC'\n",
    "\n",
    "AB = list(abb.keys())\n",
    "\n",
    "sta_abb = {}\n",
    "for i in range(len(AB)):\n",
    "    sta_abb[parse_txt(AB[i],[r'[A-Z][a-zA-Z_]+'])[-1].strip('_')] = list(abb.values())[i]\n",
    "    \n",
    "data['Abbreviations'] = data['State[c]'].apply(lambda x: sta_abb[x])     "
   ]
  },
  {
   "cell_type": "code",
   "execution_count": 14,
   "metadata": {},
   "outputs": [
    {
     "data": {
      "text/html": [
       "<div>\n",
       "<style scoped>\n",
       "    .dataframe tbody tr th:only-of-type {\n",
       "        vertical-align: middle;\n",
       "    }\n",
       "\n",
       "    .dataframe tbody tr th {\n",
       "        vertical-align: top;\n",
       "    }\n",
       "\n",
       "    .dataframe thead th {\n",
       "        text-align: right;\n",
       "    }\n",
       "</style>\n",
       "<table border=\"1\" class=\"dataframe\">\n",
       "  <thead>\n",
       "    <tr style=\"text-align: right;\">\n",
       "      <th></th>\n",
       "      <th>2018rank</th>\n",
       "      <th>City</th>\n",
       "      <th>State[c]</th>\n",
       "      <th>2018estimate</th>\n",
       "      <th>2010Census</th>\n",
       "      <th>Change</th>\n",
       "      <th>2016 land area</th>\n",
       "      <th>2016 land area.1</th>\n",
       "      <th>2016 population density</th>\n",
       "      <th>2016 population density.1</th>\n",
       "      <th>Location</th>\n",
       "      <th>Abbreviations</th>\n",
       "      <th>webpage</th>\n",
       "    </tr>\n",
       "  </thead>\n",
       "  <tbody>\n",
       "    <tr>\n",
       "      <th>0</th>\n",
       "      <td>1</td>\n",
       "      <td>New York City</td>\n",
       "      <td>New_York</td>\n",
       "      <td>8398748</td>\n",
       "      <td>8175133</td>\n",
       "      <td>+2.74%</td>\n",
       "      <td>301.5 sq mi</td>\n",
       "      <td>780.9 km2</td>\n",
       "      <td>28,317/sq mi</td>\n",
       "      <td>10,933/km2</td>\n",
       "      <td>40°39′49″N 73°56′19″W﻿ / ﻿40.6635°N 73.9387°W</td>\n",
       "      <td>NY</td>\n",
       "      <td>https://en.wikipedia.org/wiki/New_York_City</td>\n",
       "    </tr>\n",
       "    <tr>\n",
       "      <th>1</th>\n",
       "      <td>2</td>\n",
       "      <td>Los Angeles</td>\n",
       "      <td>California</td>\n",
       "      <td>3990456</td>\n",
       "      <td>3792621</td>\n",
       "      <td>+5.22%</td>\n",
       "      <td>468.7 sq mi</td>\n",
       "      <td>1,213.9 km2</td>\n",
       "      <td>8,484/sq mi</td>\n",
       "      <td>3,276/km2</td>\n",
       "      <td>34°01′10″N 118°24′39″W﻿ / ﻿34.0194°N 118.4108°W</td>\n",
       "      <td>CA</td>\n",
       "      <td>https://en.wikipedia.org/wiki/Los_Angeles</td>\n",
       "    </tr>\n",
       "    <tr>\n",
       "      <th>2</th>\n",
       "      <td>3</td>\n",
       "      <td>Chicago</td>\n",
       "      <td>Illinois</td>\n",
       "      <td>2705994</td>\n",
       "      <td>2695598</td>\n",
       "      <td>+0.39%</td>\n",
       "      <td>227.3 sq mi</td>\n",
       "      <td>588.7 km2</td>\n",
       "      <td>11,900/sq mi</td>\n",
       "      <td>4,600/km2</td>\n",
       "      <td>41°50′15″N 87°40′54″W﻿ / ﻿41.8376°N 87.6818°W</td>\n",
       "      <td>IL</td>\n",
       "      <td>https://en.wikipedia.org/wiki/Chicago</td>\n",
       "    </tr>\n",
       "    <tr>\n",
       "      <th>3</th>\n",
       "      <td>4</td>\n",
       "      <td>Houston</td>\n",
       "      <td>Texas</td>\n",
       "      <td>2325502</td>\n",
       "      <td>2100263</td>\n",
       "      <td>+10.72%</td>\n",
       "      <td>637.5 sq mi</td>\n",
       "      <td>1,651.1 km2</td>\n",
       "      <td>3,613/sq mi</td>\n",
       "      <td>1,395/km2</td>\n",
       "      <td>29°47′12″N 95°23′27″W﻿ / ﻿29.7866°N 95.3909°W</td>\n",
       "      <td>TX</td>\n",
       "      <td>https://en.wikipedia.org/wiki/Houston</td>\n",
       "    </tr>\n",
       "    <tr>\n",
       "      <th>4</th>\n",
       "      <td>5</td>\n",
       "      <td>Phoenix</td>\n",
       "      <td>Arizona</td>\n",
       "      <td>1660272</td>\n",
       "      <td>1445632</td>\n",
       "      <td>+14.85%</td>\n",
       "      <td>517.6 sq mi</td>\n",
       "      <td>1,340.6 km2</td>\n",
       "      <td>3,120/sq mi</td>\n",
       "      <td>1,200/km2</td>\n",
       "      <td>33°34′20″N 112°05′24″W﻿ / ﻿33.5722°N 112.0901°W</td>\n",
       "      <td>AZ</td>\n",
       "      <td>https://en.wikipedia.org/wiki/Phoenix,_Arizona</td>\n",
       "    </tr>\n",
       "  </tbody>\n",
       "</table>\n",
       "</div>"
      ],
      "text/plain": [
       "   2018rank           City    State[c]  2018estimate  2010Census   Change  \\\n",
       "0         1  New York City    New_York       8398748     8175133   +2.74%   \n",
       "1         2    Los Angeles  California       3990456     3792621   +5.22%   \n",
       "2         3        Chicago    Illinois       2705994     2695598   +0.39%   \n",
       "3         4        Houston       Texas       2325502     2100263  +10.72%   \n",
       "4         5        Phoenix     Arizona       1660272     1445632  +14.85%   \n",
       "\n",
       "  2016 land area 2016 land area.1 2016 population density  \\\n",
       "0    301.5 sq mi        780.9 km2            28,317/sq mi   \n",
       "1    468.7 sq mi      1,213.9 km2             8,484/sq mi   \n",
       "2    227.3 sq mi        588.7 km2            11,900/sq mi   \n",
       "3    637.5 sq mi      1,651.1 km2             3,613/sq mi   \n",
       "4    517.6 sq mi      1,340.6 km2             3,120/sq mi   \n",
       "\n",
       "  2016 population density.1                                         Location  \\\n",
       "0                10,933/km2    40°39′49″N 73°56′19″W﻿ / ﻿40.6635°N 73.9387°W   \n",
       "1                 3,276/km2  34°01′10″N 118°24′39″W﻿ / ﻿34.0194°N 118.4108°W   \n",
       "2                 4,600/km2    41°50′15″N 87°40′54″W﻿ / ﻿41.8376°N 87.6818°W   \n",
       "3                 1,395/km2    29°47′12″N 95°23′27″W﻿ / ﻿29.7866°N 95.3909°W   \n",
       "4                 1,200/km2  33°34′20″N 112°05′24″W﻿ / ﻿33.5722°N 112.0901°W   \n",
       "\n",
       "  Abbreviations                                         webpage  \n",
       "0            NY     https://en.wikipedia.org/wiki/New_York_City  \n",
       "1            CA       https://en.wikipedia.org/wiki/Los_Angeles  \n",
       "2            IL           https://en.wikipedia.org/wiki/Chicago  \n",
       "3            TX           https://en.wikipedia.org/wiki/Houston  \n",
       "4            AZ  https://en.wikipedia.org/wiki/Phoenix,_Arizona  "
      ]
     },
     "execution_count": 14,
     "metadata": {},
     "output_type": "execute_result"
    }
   ],
   "source": [
    "# Adding the new columns to the table\n",
    "data = data.sort_values(by=['City'])\n",
    "data['webpage'] = wiki_link\n",
    "data = data.sort_values(by=['2018rank'])\n",
    "data.head()"
   ]
  },
  {
   "cell_type": "code",
   "execution_count": 15,
   "metadata": {},
   "outputs": [],
   "source": [
    "# function to make a dictionary of the respective race \n",
    "def make_list(lst,dfs25):\n",
    "    count = []\n",
    "    sites = []\n",
    "    for i in range(len(dfs25)):\n",
    "        for j in range(len(lst)):\n",
    "            try:\n",
    "                count.append(dfs25[i][dfs25[i].columns[1]][list(dfs25[i][dfs25[i].columns[0]]).index(lst[j])])\n",
    "                sites.append(list(cis.keys())[i])\n",
    "            except:\n",
    "                pass\n",
    "    dict1 = {}\n",
    "    for i in range(len(sites)):\n",
    "        dict1[sites[i]] = count[i]\n",
    "    if len(dict1) != len(sites):\n",
    "        v = list(set(cis.keys())-set(dict1.keys()).intersection(set(sites)))[0]\n",
    "\n",
    "        dict1[str(v)] = cis[str(v)][0][cis[str(v)][0].columns[1]][0]\n",
    "    return dict1\n",
    "\n",
    "# function to create patterns from existing pattern types for different races\n",
    "def scrape_patterns(websites, types):\n",
    "    C = {}\n",
    "    try:\n",
    "        for i in range(len(websites)):\n",
    "            scrape = bs.BeautifulSoup(urlopen(websites[i]))\n",
    "            scrape = scrape.get_text()\n",
    "            C.setdefault(websites[i], [])\n",
    "            C[websites[i]].append(parse_txt(scrape, types))\n",
    "\n",
    "    except:\n",
    "        pass\n",
    "    \n",
    "    return C\n",
    "\n",
    "# function to parse the values from the scraped patterns\n",
    "def parse_values(websites,W,types):\n",
    "    whities = {}\n",
    "    for i in range(len(W)):\n",
    "        try:\n",
    "            whities[websites[i]] = parse_txt(str(W[i][0]),types)[0]\n",
    "        except:\n",
    "            whities[websites[i]] = None\n",
    "    return whities"
   ]
  },
  {
   "cell_type": "markdown",
   "metadata": {},
   "source": [
    "# Part II\n",
    "The first part of **Part II** was probably the most challenging task of this Assignemt, mainly because the data was present in various forms and only few cities had a Demographic Table"
   ]
  },
  {
   "cell_type": "code",
   "execution_count": 16,
   "metadata": {},
   "outputs": [],
   "source": [
    "websites = list(data['webpage'])"
   ]
  },
  {
   "cell_type": "code",
   "execution_count": 17,
   "metadata": {},
   "outputs": [],
   "source": [
    "# getting all the demographic tables from city wikipedia \n",
    "\n",
    "cis = {}\n",
    "for i in range(len(data)):\n",
    "    try:\n",
    "        df = pd.read_html(websites[i])\n",
    "        for tb in df:\n",
    "            if 'Demographic profile' in str(tb.columns[0]) or '1990' in str(tb.columns) or 'racial' in str(tb.columns[0]) or 'Racial composition' in str(tb.columns[0]) or 'Race' in str(tb.columns[0]) or '2010 Census' in str(tb.columns[0]) or ('White' in str(tb[tb.columns[0]]) and 'Black' in str(tb[tb.columns[0]])):\n",
    "                cis.setdefault(websites[i], [])\n",
    "                cis[websites[i]].append(tb)\n",
    "    except:\n",
    "        pass"
   ]
  },
  {
   "cell_type": "code",
   "execution_count": 18,
   "metadata": {},
   "outputs": [],
   "source": [
    "frames = list(cis.values())\n",
    "dfs25 = []\n",
    "for i in range(len(frames)):\n",
    "    dfs25.append(frames[i][0])"
   ]
  },
  {
   "cell_type": "code",
   "execution_count": 19,
   "metadata": {},
   "outputs": [],
   "source": [
    "#Getting data for White Race\n",
    "White_names = []\n",
    "for df in dfs25:\n",
    "    for i in range(len(df[df.columns[0]])): \n",
    "        if 'White' in df[df.columns[0]][i]:\n",
    "                White_names.append(df[df.columns[0]][i])\n",
    "                break\n",
    "mylen = np.vectorize(len)\n",
    "A = np.asarray(White_names)\n",
    "B = mylen(A)\n",
    "white_list = list(np.unique(list(A[np.where(B < 50)])))\n",
    "white_dict = make_list(white_list,dfs25)"
   ]
  },
  {
   "cell_type": "code",
   "execution_count": 20,
   "metadata": {},
   "outputs": [],
   "source": [
    "#Getting data for Black Race\n",
    "Black_names = []\n",
    "for df in dfs25:\n",
    "    for i in range(len(df[df.columns[0]])): \n",
    "        if 'Black' in df[df.columns[0]][i] or 'African' in df[df.columns[0]][i]:\n",
    "            if df[df.columns[0]][i] not in Black_names:\n",
    "                Black_names.append(df[df.columns[0]][i])\n",
    "                break\n",
    "mylen = np.vectorize(len)\n",
    "A = np.asarray(Black_names)\n",
    "B = mylen(A)\n",
    "black_list = list(A[np.where(B < 100)])\n",
    "black_dict = make_list(black_list,dfs25)"
   ]
  },
  {
   "cell_type": "code",
   "execution_count": 21,
   "metadata": {},
   "outputs": [],
   "source": [
    "table_sites = list(white_dict.keys())\n",
    "websites2 = list(set(websites)- set(table_sites))"
   ]
  },
  {
   "cell_type": "code",
   "execution_count": 22,
   "metadata": {},
   "outputs": [],
   "source": [
    "# Types of patters that I found by examining few wikipedia websites\n",
    "\n",
    "\n",
    "white_types = [r'\\D\\d*.\\d%\\D\\sWhite',r'\\d*.\\d*%\\s[wW]hite',r'White[s]\\s\\D\\d*.\\d*%\\D',r'White[s]\\s\\d*.\\d*%',r'White[s]:\\s\\d*.\\d*%',r'White:\\s\\d*.\\d*%',r'White\\sAmerican:\\s\\d*.\\d*%',r'White\\s-\\s\\d*.\\d*%',r'\\d*.\\d%\\swere\\sWhite',r'\\d*.\\d\\spercent\\swhite',r'\\d*.\\d%\\swhite',r'\\d*.\\d%\\s[Nn]on-Hispanic\\s[wW]hite',r'\\d*.\\d*%\\swere\\swhite',r'\\D\\d*.\\d*%\\D\\snon-Hispanic\\sWhite',r'\\d*%\\s[wW]hite',r'\\d%\\sWhite',r'\\d\\d.\\d%\\swas\\sWhite']"
   ]
  },
  {
   "cell_type": "code",
   "execution_count": 23,
   "metadata": {},
   "outputs": [],
   "source": [
    "# reproducing patterns for Black Race\n",
    "b1 = []\n",
    "b2 = []\n",
    "b3 = []\n",
    "b4 = []\n",
    "b5 = []\n",
    "for typ in white_types:\n",
    "    b1.append(typ.replace('White','Black'))\n",
    "    b2.append(typ.replace('[wW]hite','[bB]lack'))\n",
    "    b3.append(typ.replace('White','African'))\n",
    "    b4.append(typ.replace('[wW]hite','[aA]frican'))\n",
    "    b5.append(typ.replace('white','black'))\n",
    "black_types = list(set(b1).union(set(b2),set(b3),set(b4),set(b5)) - set(white_types))    "
   ]
  },
  {
   "cell_type": "code",
   "execution_count": 24,
   "metadata": {},
   "outputs": [],
   "source": [
    "C = scrape_patterns(websites2, white_types)\n",
    "D = scrape_patterns(websites2, black_types)"
   ]
  },
  {
   "cell_type": "code",
   "execution_count": 25,
   "metadata": {},
   "outputs": [],
   "source": [
    "C1= list(C.values())\n",
    "D1=list(D.values())"
   ]
  },
  {
   "cell_type": "code",
   "execution_count": 26,
   "metadata": {},
   "outputs": [],
   "source": [
    "# patterns to extract values\n",
    "types2 = [r'\\d\\d.\\d%',r'\\d\\d.\\d\\d%',r'\\d.\\d%',r'\\d.\\d\\d%',r'\\d\\d.\\d\\spercent',r'\\d*%',r'\\d.\\d\\spercent']"
   ]
  },
  {
   "cell_type": "code",
   "execution_count": 27,
   "metadata": {},
   "outputs": [],
   "source": [
    "whities = parse_values(websites2,C1,types2)\n",
    "blackies = parse_values(websites2,D1,types2)"
   ]
  },
  {
   "cell_type": "code",
   "execution_count": 28,
   "metadata": {},
   "outputs": [],
   "source": [
    "C2 = list(whities.values())\n",
    "D2 = list(blackies.values())"
   ]
  },
  {
   "cell_type": "code",
   "execution_count": 29,
   "metadata": {},
   "outputs": [],
   "source": [
    "NONE = []\n",
    "for i in range(len(websites2)):\n",
    "    if C2[i] == None or D2[i] == None:\n",
    "        NONE.append(websites2[i])"
   ]
  },
  {
   "cell_type": "code",
   "execution_count": 30,
   "metadata": {},
   "outputs": [
    {
     "data": {
      "text/plain": [
       "['https://en.wikipedia.org/wiki/Clearwater,_Florida',\n",
       " 'https://en.wikipedia.org/wiki/Jurupa_Valley,_California',\n",
       " 'https://en.wikipedia.org/wiki/College_Station,_Texas']"
      ]
     },
     "execution_count": 30,
     "metadata": {},
     "output_type": "execute_result"
    }
   ],
   "source": [
    "# websites that did not have any demographic data for which i will forward fill later\n",
    "NONE"
   ]
  },
  {
   "cell_type": "code",
   "execution_count": 31,
   "metadata": {},
   "outputs": [],
   "source": [
    "none_websites = {}\n",
    "for website in websites:\n",
    "    none_websites[website] = None    "
   ]
  },
  {
   "cell_type": "code",
   "execution_count": 32,
   "metadata": {},
   "outputs": [],
   "source": [
    "newwebs1 = {**none_websites,**{**white_dict,**whities}}\n",
    "newwebs2 = {**none_websites,**{**black_dict,**blackies}}"
   ]
  },
  {
   "cell_type": "code",
   "execution_count": 33,
   "metadata": {},
   "outputs": [],
   "source": [
    "data['Whites'] = newwebs1.values()\n",
    "data['Blacks'] = newwebs2.values()"
   ]
  },
  {
   "cell_type": "code",
   "execution_count": 34,
   "metadata": {},
   "outputs": [],
   "source": [
    "#more cleaning!!!!!!!\n",
    "\n",
    "end = data['Whites'].to_list()\n",
    "White = []\n",
    "for e in end:\n",
    "    White.append(parse_txt(str(e),[r'\\d\\d.\\d%',r'\\d\\d.\\d%',r'\\d\\d.\\d\\d%',r'\\d\\d%']))\n",
    "clean_whites = []\n",
    "for w in White:\n",
    "    try:\n",
    "        clean_whites.append(w[0].replace('%',''))\n",
    "    except:\n",
    "        clean_whites.append(None)\n",
    "data['White%'] = clean_whites\n",
    "data['White%'] = data['White%'].astype(float) "
   ]
  },
  {
   "cell_type": "code",
   "execution_count": 35,
   "metadata": {},
   "outputs": [],
   "source": [
    "#Cleaning again\n",
    "\n",
    "end = data['Blacks'].to_list()\n",
    "Black = []\n",
    "for e2 in end:\n",
    "    Black.append(parse_txt(str(e2),[r'\\d\\d.\\d%',r'\\d.\\d%',r'\\d.\\d\\d%',r'\\d\\d%']))\n",
    "clean_Blacks = []\n",
    "for b in Black:\n",
    "    try:\n",
    "        clean_Blacks.append(b[0].replace('%',''))\n",
    "    except:\n",
    "        clean_Blacks.append(None)\n",
    "data['Black%'] = clean_Blacks\n",
    "data['Black%'] = data['Black%'].astype(float) "
   ]
  },
  {
   "cell_type": "code",
   "execution_count": 36,
   "metadata": {},
   "outputs": [],
   "source": [
    "# forward fill nan data\n",
    "\n",
    "data = data.fillna(method='ffill')"
   ]
  },
  {
   "cell_type": "code",
   "execution_count": 37,
   "metadata": {
    "scrolled": true
   },
   "outputs": [
    {
     "data": {
      "text/html": [
       "<div>\n",
       "<style scoped>\n",
       "    .dataframe tbody tr th:only-of-type {\n",
       "        vertical-align: middle;\n",
       "    }\n",
       "\n",
       "    .dataframe tbody tr th {\n",
       "        vertical-align: top;\n",
       "    }\n",
       "\n",
       "    .dataframe thead th {\n",
       "        text-align: right;\n",
       "    }\n",
       "</style>\n",
       "<table border=\"1\" class=\"dataframe\">\n",
       "  <thead>\n",
       "    <tr style=\"text-align: right;\">\n",
       "      <th></th>\n",
       "      <th>2018rank</th>\n",
       "      <th>City</th>\n",
       "      <th>State[c]</th>\n",
       "      <th>2018estimate</th>\n",
       "      <th>2010Census</th>\n",
       "      <th>Change</th>\n",
       "      <th>2016 land area</th>\n",
       "      <th>2016 land area.1</th>\n",
       "      <th>2016 population density</th>\n",
       "      <th>2016 population density.1</th>\n",
       "      <th>Location</th>\n",
       "      <th>Abbreviations</th>\n",
       "      <th>webpage</th>\n",
       "      <th>Whites</th>\n",
       "      <th>Blacks</th>\n",
       "      <th>White%</th>\n",
       "      <th>Black%</th>\n",
       "    </tr>\n",
       "  </thead>\n",
       "  <tbody>\n",
       "    <tr>\n",
       "      <th>0</th>\n",
       "      <td>1</td>\n",
       "      <td>New York City</td>\n",
       "      <td>New_York</td>\n",
       "      <td>8398748</td>\n",
       "      <td>8175133</td>\n",
       "      <td>+2.74%</td>\n",
       "      <td>301.5 sq mi</td>\n",
       "      <td>780.9 km2</td>\n",
       "      <td>28,317/sq mi</td>\n",
       "      <td>10,933/km2</td>\n",
       "      <td>40°39′49″N 73°56′19″W﻿ / ﻿40.6635°N 73.9387°W</td>\n",
       "      <td>NY</td>\n",
       "      <td>https://en.wikipedia.org/wiki/New_York_City</td>\n",
       "      <td>44.0%</td>\n",
       "      <td>25.5%</td>\n",
       "      <td>44.0</td>\n",
       "      <td>25.5</td>\n",
       "    </tr>\n",
       "    <tr>\n",
       "      <th>1</th>\n",
       "      <td>2</td>\n",
       "      <td>Los Angeles</td>\n",
       "      <td>California</td>\n",
       "      <td>3990456</td>\n",
       "      <td>3792621</td>\n",
       "      <td>+5.22%</td>\n",
       "      <td>468.7 sq mi</td>\n",
       "      <td>1,213.9 km2</td>\n",
       "      <td>8,484/sq mi</td>\n",
       "      <td>3,276/km2</td>\n",
       "      <td>34°01′10″N 118°24′39″W﻿ / ﻿34.0194°N 118.4108°W</td>\n",
       "      <td>CA</td>\n",
       "      <td>https://en.wikipedia.org/wiki/Los_Angeles</td>\n",
       "      <td>28.7%</td>\n",
       "      <td>9.6%</td>\n",
       "      <td>28.7</td>\n",
       "      <td>9.6</td>\n",
       "    </tr>\n",
       "    <tr>\n",
       "      <th>2</th>\n",
       "      <td>3</td>\n",
       "      <td>Chicago</td>\n",
       "      <td>Illinois</td>\n",
       "      <td>2705994</td>\n",
       "      <td>2695598</td>\n",
       "      <td>+0.39%</td>\n",
       "      <td>227.3 sq mi</td>\n",
       "      <td>588.7 km2</td>\n",
       "      <td>11,900/sq mi</td>\n",
       "      <td>4,600/km2</td>\n",
       "      <td>41°50′15″N 87°40′54″W﻿ / ﻿41.8376°N 87.6818°W</td>\n",
       "      <td>IL</td>\n",
       "      <td>https://en.wikipedia.org/wiki/Chicago</td>\n",
       "      <td>44.9%</td>\n",
       "      <td>32.9%</td>\n",
       "      <td>44.9</td>\n",
       "      <td>32.9</td>\n",
       "    </tr>\n",
       "    <tr>\n",
       "      <th>3</th>\n",
       "      <td>4</td>\n",
       "      <td>Houston</td>\n",
       "      <td>Texas</td>\n",
       "      <td>2325502</td>\n",
       "      <td>2100263</td>\n",
       "      <td>+10.72%</td>\n",
       "      <td>637.5 sq mi</td>\n",
       "      <td>1,651.1 km2</td>\n",
       "      <td>3,613/sq mi</td>\n",
       "      <td>1,395/km2</td>\n",
       "      <td>29°47′12″N 95°23′27″W﻿ / ﻿29.7866°N 95.3909°W</td>\n",
       "      <td>TX</td>\n",
       "      <td>https://en.wikipedia.org/wiki/Houston</td>\n",
       "      <td>25.6%</td>\n",
       "      <td>25.7%</td>\n",
       "      <td>25.6</td>\n",
       "      <td>25.7</td>\n",
       "    </tr>\n",
       "    <tr>\n",
       "      <th>4</th>\n",
       "      <td>5</td>\n",
       "      <td>Phoenix</td>\n",
       "      <td>Arizona</td>\n",
       "      <td>1660272</td>\n",
       "      <td>1445632</td>\n",
       "      <td>+14.85%</td>\n",
       "      <td>517.6 sq mi</td>\n",
       "      <td>1,340.6 km2</td>\n",
       "      <td>3,120/sq mi</td>\n",
       "      <td>1,200/km2</td>\n",
       "      <td>33°34′20″N 112°05′24″W﻿ / ﻿33.5722°N 112.0901°W</td>\n",
       "      <td>AZ</td>\n",
       "      <td>https://en.wikipedia.org/wiki/Phoenix,_Arizona</td>\n",
       "      <td>92.3%</td>\n",
       "      <td>6.5%</td>\n",
       "      <td>92.3</td>\n",
       "      <td>6.5</td>\n",
       "    </tr>\n",
       "  </tbody>\n",
       "</table>\n",
       "</div>"
      ],
      "text/plain": [
       "   2018rank           City    State[c]  2018estimate  2010Census   Change  \\\n",
       "0         1  New York City    New_York       8398748     8175133   +2.74%   \n",
       "1         2    Los Angeles  California       3990456     3792621   +5.22%   \n",
       "2         3        Chicago    Illinois       2705994     2695598   +0.39%   \n",
       "3         4        Houston       Texas       2325502     2100263  +10.72%   \n",
       "4         5        Phoenix     Arizona       1660272     1445632  +14.85%   \n",
       "\n",
       "  2016 land area 2016 land area.1 2016 population density  \\\n",
       "0    301.5 sq mi        780.9 km2            28,317/sq mi   \n",
       "1    468.7 sq mi      1,213.9 km2             8,484/sq mi   \n",
       "2    227.3 sq mi        588.7 km2            11,900/sq mi   \n",
       "3    637.5 sq mi      1,651.1 km2             3,613/sq mi   \n",
       "4    517.6 sq mi      1,340.6 km2             3,120/sq mi   \n",
       "\n",
       "  2016 population density.1                                         Location  \\\n",
       "0                10,933/km2    40°39′49″N 73°56′19″W﻿ / ﻿40.6635°N 73.9387°W   \n",
       "1                 3,276/km2  34°01′10″N 118°24′39″W﻿ / ﻿34.0194°N 118.4108°W   \n",
       "2                 4,600/km2    41°50′15″N 87°40′54″W﻿ / ﻿41.8376°N 87.6818°W   \n",
       "3                 1,395/km2    29°47′12″N 95°23′27″W﻿ / ﻿29.7866°N 95.3909°W   \n",
       "4                 1,200/km2  33°34′20″N 112°05′24″W﻿ / ﻿33.5722°N 112.0901°W   \n",
       "\n",
       "  Abbreviations                                         webpage Whites Blacks  \\\n",
       "0            NY     https://en.wikipedia.org/wiki/New_York_City  44.0%  25.5%   \n",
       "1            CA       https://en.wikipedia.org/wiki/Los_Angeles  28.7%   9.6%   \n",
       "2            IL           https://en.wikipedia.org/wiki/Chicago  44.9%  32.9%   \n",
       "3            TX           https://en.wikipedia.org/wiki/Houston  25.6%  25.7%   \n",
       "4            AZ  https://en.wikipedia.org/wiki/Phoenix,_Arizona  92.3%   6.5%   \n",
       "\n",
       "   White%  Black%  \n",
       "0    44.0    25.5  \n",
       "1    28.7     9.6  \n",
       "2    44.9    32.9  \n",
       "3    25.6    25.7  \n",
       "4    92.3     6.5  "
      ]
     },
     "execution_count": 37,
     "metadata": {},
     "output_type": "execute_result"
    }
   ],
   "source": [
    "data.head()"
   ]
  },
  {
   "cell_type": "markdown",
   "metadata": {},
   "source": [
    "## Calculating the Latitude and Longitude from DMS format"
   ]
  },
  {
   "cell_type": "code",
   "execution_count": 38,
   "metadata": {},
   "outputs": [],
   "source": [
    "location = data['Location'].to_list()"
   ]
  },
  {
   "cell_type": "code",
   "execution_count": 39,
   "metadata": {},
   "outputs": [],
   "source": [
    "# Function to calculate Latitude and Longitude from DegreeMinutesSeconds format\n",
    "\n",
    "def calculate_LATandLONG(degree,minutes,seconds):\n",
    "    return str(float(degree) + (float(minutes)/60) + (float(seconds)/3600))\n",
    "    "
   ]
  },
  {
   "cell_type": "code",
   "execution_count": 40,
   "metadata": {},
   "outputs": [],
   "source": [
    "loc1 = []\n",
    "for loc in location:\n",
    "    loc1.append(loc[:loc.find('W')])"
   ]
  },
  {
   "cell_type": "code",
   "execution_count": 41,
   "metadata": {},
   "outputs": [],
   "source": [
    "#latitude\n",
    "\n",
    "degree = []\n",
    "minutes = []\n",
    "seconds = []\n",
    "for i in range(len(loc1)):\n",
    "    degree.append(loc1[i].split()[0].strip('″N').split('°')[0])\n",
    "    minutes.append(loc1[i].split()[0].strip('″N').split('°')[1].split('′')[0])\n",
    "    seconds.append(loc1[i].split()[0].strip('″N').split('°')[1].split('′')[1])\n",
    "\n",
    "latitude = [calculate_LATandLONG(degree[i],minutes[i],seconds[i]) for i in range(len(degree))]\n",
    "data['latitude'] = [latitude[i][0:9] for i in range(len(latitude))]\n",
    "data['latitude'] = data['latitude'].astype(float)    "
   ]
  },
  {
   "cell_type": "code",
   "execution_count": 42,
   "metadata": {},
   "outputs": [],
   "source": [
    "#longitude\n",
    "\n",
    "degree1 = []\n",
    "minutes1 = []\n",
    "seconds1 = []\n",
    "for i in range(len(loc1)):\n",
    "    degree1.append(loc1[i].split()[1].strip('″N').split('°')[0])\n",
    "    minutes1.append(loc1[i].split()[1].strip('″N').split('°')[1].split('′')[0])\n",
    "    seconds1.append(loc1[i].split()[1].strip('″N').split('°')[1].split('′')[1])\n",
    "    \n",
    "longitude = [calculate_LATandLONG(degree1[i],minutes1[i],seconds1[i]) for i in range(len(degree1))]\n",
    "data['longitude'] = ['-'+longitude[i][:9] for i in range(len(longitude))]\n",
    "data['longitude'] = data['longitude'].astype(float)"
   ]
  },
  {
   "cell_type": "code",
   "execution_count": 43,
   "metadata": {},
   "outputs": [
    {
     "data": {
      "text/html": [
       "<div>\n",
       "<style scoped>\n",
       "    .dataframe tbody tr th:only-of-type {\n",
       "        vertical-align: middle;\n",
       "    }\n",
       "\n",
       "    .dataframe tbody tr th {\n",
       "        vertical-align: top;\n",
       "    }\n",
       "\n",
       "    .dataframe thead th {\n",
       "        text-align: right;\n",
       "    }\n",
       "</style>\n",
       "<table border=\"1\" class=\"dataframe\">\n",
       "  <thead>\n",
       "    <tr style=\"text-align: right;\">\n",
       "      <th></th>\n",
       "      <th>2018rank</th>\n",
       "      <th>City</th>\n",
       "      <th>State[c]</th>\n",
       "      <th>2018estimate</th>\n",
       "      <th>2010Census</th>\n",
       "      <th>Change</th>\n",
       "      <th>2016 land area</th>\n",
       "      <th>2016 land area.1</th>\n",
       "      <th>2016 population density</th>\n",
       "      <th>2016 population density.1</th>\n",
       "      <th>Location</th>\n",
       "      <th>Abbreviations</th>\n",
       "      <th>webpage</th>\n",
       "      <th>Whites</th>\n",
       "      <th>Blacks</th>\n",
       "      <th>White%</th>\n",
       "      <th>Black%</th>\n",
       "      <th>latitude</th>\n",
       "      <th>longitude</th>\n",
       "    </tr>\n",
       "  </thead>\n",
       "  <tbody>\n",
       "    <tr>\n",
       "      <th>0</th>\n",
       "      <td>1</td>\n",
       "      <td>New York City</td>\n",
       "      <td>New_York</td>\n",
       "      <td>8398748</td>\n",
       "      <td>8175133</td>\n",
       "      <td>+2.74%</td>\n",
       "      <td>301.5 sq mi</td>\n",
       "      <td>780.9 km2</td>\n",
       "      <td>28,317/sq mi</td>\n",
       "      <td>10,933/km2</td>\n",
       "      <td>40°39′49″N 73°56′19″W﻿ / ﻿40.6635°N 73.9387°W</td>\n",
       "      <td>NY</td>\n",
       "      <td>https://en.wikipedia.org/wiki/New_York_City</td>\n",
       "      <td>44.0%</td>\n",
       "      <td>25.5%</td>\n",
       "      <td>44.0</td>\n",
       "      <td>25.5</td>\n",
       "      <td>40.663611</td>\n",
       "      <td>-73.938611</td>\n",
       "    </tr>\n",
       "    <tr>\n",
       "      <th>1</th>\n",
       "      <td>2</td>\n",
       "      <td>Los Angeles</td>\n",
       "      <td>California</td>\n",
       "      <td>3990456</td>\n",
       "      <td>3792621</td>\n",
       "      <td>+5.22%</td>\n",
       "      <td>468.7 sq mi</td>\n",
       "      <td>1,213.9 km2</td>\n",
       "      <td>8,484/sq mi</td>\n",
       "      <td>3,276/km2</td>\n",
       "      <td>34°01′10″N 118°24′39″W﻿ / ﻿34.0194°N 118.4108°W</td>\n",
       "      <td>CA</td>\n",
       "      <td>https://en.wikipedia.org/wiki/Los_Angeles</td>\n",
       "      <td>28.7%</td>\n",
       "      <td>9.6%</td>\n",
       "      <td>28.7</td>\n",
       "      <td>9.6</td>\n",
       "      <td>34.019444</td>\n",
       "      <td>-118.410830</td>\n",
       "    </tr>\n",
       "    <tr>\n",
       "      <th>2</th>\n",
       "      <td>3</td>\n",
       "      <td>Chicago</td>\n",
       "      <td>Illinois</td>\n",
       "      <td>2705994</td>\n",
       "      <td>2695598</td>\n",
       "      <td>+0.39%</td>\n",
       "      <td>227.3 sq mi</td>\n",
       "      <td>588.7 km2</td>\n",
       "      <td>11,900/sq mi</td>\n",
       "      <td>4,600/km2</td>\n",
       "      <td>41°50′15″N 87°40′54″W﻿ / ﻿41.8376°N 87.6818°W</td>\n",
       "      <td>IL</td>\n",
       "      <td>https://en.wikipedia.org/wiki/Chicago</td>\n",
       "      <td>44.9%</td>\n",
       "      <td>32.9%</td>\n",
       "      <td>44.9</td>\n",
       "      <td>32.9</td>\n",
       "      <td>41.837500</td>\n",
       "      <td>-87.681666</td>\n",
       "    </tr>\n",
       "    <tr>\n",
       "      <th>3</th>\n",
       "      <td>4</td>\n",
       "      <td>Houston</td>\n",
       "      <td>Texas</td>\n",
       "      <td>2325502</td>\n",
       "      <td>2100263</td>\n",
       "      <td>+10.72%</td>\n",
       "      <td>637.5 sq mi</td>\n",
       "      <td>1,651.1 km2</td>\n",
       "      <td>3,613/sq mi</td>\n",
       "      <td>1,395/km2</td>\n",
       "      <td>29°47′12″N 95°23′27″W﻿ / ﻿29.7866°N 95.3909°W</td>\n",
       "      <td>TX</td>\n",
       "      <td>https://en.wikipedia.org/wiki/Houston</td>\n",
       "      <td>25.6%</td>\n",
       "      <td>25.7%</td>\n",
       "      <td>25.6</td>\n",
       "      <td>25.7</td>\n",
       "      <td>29.786666</td>\n",
       "      <td>-95.390833</td>\n",
       "    </tr>\n",
       "    <tr>\n",
       "      <th>4</th>\n",
       "      <td>5</td>\n",
       "      <td>Phoenix</td>\n",
       "      <td>Arizona</td>\n",
       "      <td>1660272</td>\n",
       "      <td>1445632</td>\n",
       "      <td>+14.85%</td>\n",
       "      <td>517.6 sq mi</td>\n",
       "      <td>1,340.6 km2</td>\n",
       "      <td>3,120/sq mi</td>\n",
       "      <td>1,200/km2</td>\n",
       "      <td>33°34′20″N 112°05′24″W﻿ / ﻿33.5722°N 112.0901°W</td>\n",
       "      <td>AZ</td>\n",
       "      <td>https://en.wikipedia.org/wiki/Phoenix,_Arizona</td>\n",
       "      <td>92.3%</td>\n",
       "      <td>6.5%</td>\n",
       "      <td>92.3</td>\n",
       "      <td>6.5</td>\n",
       "      <td>33.572222</td>\n",
       "      <td>-112.089990</td>\n",
       "    </tr>\n",
       "  </tbody>\n",
       "</table>\n",
       "</div>"
      ],
      "text/plain": [
       "   2018rank           City    State[c]  2018estimate  2010Census   Change  \\\n",
       "0         1  New York City    New_York       8398748     8175133   +2.74%   \n",
       "1         2    Los Angeles  California       3990456     3792621   +5.22%   \n",
       "2         3        Chicago    Illinois       2705994     2695598   +0.39%   \n",
       "3         4        Houston       Texas       2325502     2100263  +10.72%   \n",
       "4         5        Phoenix     Arizona       1660272     1445632  +14.85%   \n",
       "\n",
       "  2016 land area 2016 land area.1 2016 population density  \\\n",
       "0    301.5 sq mi        780.9 km2            28,317/sq mi   \n",
       "1    468.7 sq mi      1,213.9 km2             8,484/sq mi   \n",
       "2    227.3 sq mi        588.7 km2            11,900/sq mi   \n",
       "3    637.5 sq mi      1,651.1 km2             3,613/sq mi   \n",
       "4    517.6 sq mi      1,340.6 km2             3,120/sq mi   \n",
       "\n",
       "  2016 population density.1                                         Location  \\\n",
       "0                10,933/km2    40°39′49″N 73°56′19″W﻿ / ﻿40.6635°N 73.9387°W   \n",
       "1                 3,276/km2  34°01′10″N 118°24′39″W﻿ / ﻿34.0194°N 118.4108°W   \n",
       "2                 4,600/km2    41°50′15″N 87°40′54″W﻿ / ﻿41.8376°N 87.6818°W   \n",
       "3                 1,395/km2    29°47′12″N 95°23′27″W﻿ / ﻿29.7866°N 95.3909°W   \n",
       "4                 1,200/km2  33°34′20″N 112°05′24″W﻿ / ﻿33.5722°N 112.0901°W   \n",
       "\n",
       "  Abbreviations                                         webpage Whites Blacks  \\\n",
       "0            NY     https://en.wikipedia.org/wiki/New_York_City  44.0%  25.5%   \n",
       "1            CA       https://en.wikipedia.org/wiki/Los_Angeles  28.7%   9.6%   \n",
       "2            IL           https://en.wikipedia.org/wiki/Chicago  44.9%  32.9%   \n",
       "3            TX           https://en.wikipedia.org/wiki/Houston  25.6%  25.7%   \n",
       "4            AZ  https://en.wikipedia.org/wiki/Phoenix,_Arizona  92.3%   6.5%   \n",
       "\n",
       "   White%  Black%   latitude   longitude  \n",
       "0    44.0    25.5  40.663611  -73.938611  \n",
       "1    28.7     9.6  34.019444 -118.410830  \n",
       "2    44.9    32.9  41.837500  -87.681666  \n",
       "3    25.6    25.7  29.786666  -95.390833  \n",
       "4    92.3     6.5  33.572222 -112.089990  "
      ]
     },
     "execution_count": 43,
     "metadata": {},
     "output_type": "execute_result"
    }
   ],
   "source": [
    "data.head()"
   ]
  },
  {
   "cell_type": "code",
   "execution_count": 44,
   "metadata": {},
   "outputs": [],
   "source": [
    "# Arranging th columns and dropping unnecessary columns\n",
    "\n",
    "data = data[['2018rank','City','State[c]','Abbreviations','2018estimate','2010Census','Change','2016 land area','2016 population density','Location','latitude','longitude','White%','Black%']]"
   ]
  },
  {
   "cell_type": "code",
   "execution_count": 45,
   "metadata": {
    "scrolled": false
   },
   "outputs": [],
   "source": [
    "data.columns = ['2018_Rank','City','State','Abbreviations','2018_Estimate','2010_Census','%Change','2016_land_area(sq mi)','2016_population_density(sq mi)','Location','latitude','longitude','White%','Black%']"
   ]
  },
  {
   "cell_type": "code",
   "execution_count": 46,
   "metadata": {
    "scrolled": true
   },
   "outputs": [],
   "source": [
    "remove_ = lambda x: x.replace('_', ' ')\n",
    "data['State'] = data['State'].apply(remove_)"
   ]
  },
  {
   "cell_type": "markdown",
   "metadata": {},
   "source": [
    "Changinig values suitable to use cases"
   ]
  },
  {
   "cell_type": "code",
   "execution_count": 47,
   "metadata": {},
   "outputs": [],
   "source": [
    "data['2016_land_area(sq mi)'] = data['2016_land_area(sq mi)'].apply(lambda x: x.replace('\\xa0sq\\xa0mi',''))\n",
    "data['2016_land_area(sq mi)'] = data['2016_land_area(sq mi)'].apply(lambda x: float(x.replace(',','')))\n",
    "\n",
    "data['2016_population_density(sq mi)'] = data['2016_population_density(sq mi)'].apply(lambda x: x.replace('/sq\\xa0mi',''))\n",
    "data['2016_population_density(sq mi)'] = data['2016_population_density(sq mi)'].apply(lambda x: float(x.replace(',','')))"
   ]
  },
  {
   "cell_type": "code",
   "execution_count": 48,
   "metadata": {},
   "outputs": [],
   "source": [
    "data['%Change'] = data['%Change'].apply(lambda x: x.replace('%',''))\n",
    "data['%Change'] = data['%Change'].apply(lambda x: x.replace('+',''))\n",
    "mean = round(data['%Change'][0:100].apply(lambda x: float(x.replace('−','-'))).astype(float).mean(),2)\n",
    "data['%Change'] = data['%Change'].apply(lambda x: x.replace('[ab]',str(mean)))\n",
    "data['%Change'] = data['%Change'].apply(lambda x: float(x.replace('−','-')))"
   ]
  },
  {
   "cell_type": "code",
   "execution_count": 49,
   "metadata": {},
   "outputs": [],
   "source": [
    "# Making a CSV file to submit\n",
    "data.to_csv('Saketh_Chityala-Topos_Assignment.csv')"
   ]
  },
  {
   "cell_type": "markdown",
   "metadata": {},
   "source": [
    "# PART III"
   ]
  },
  {
   "cell_type": "markdown",
   "metadata": {},
   "source": [
    "Importing plotly library to vizualize data on maps"
   ]
  },
  {
   "cell_type": "code",
   "execution_count": 50,
   "metadata": {},
   "outputs": [],
   "source": [
    "import plotly.plotly as py\n",
    "import plotly.graph_objs as go\n",
    "\n",
    "import pandas as pd"
   ]
  },
  {
   "cell_type": "code",
   "execution_count": 51,
   "metadata": {},
   "outputs": [
    {
     "name": "stderr",
     "output_type": "stream",
     "text": [
      "C:\\Anaconda3\\envs\\TFMagic\\lib\\site-packages\\IPython\\core\\display.py:689: UserWarning:\n",
      "\n",
      "Consider using IPython.display.IFrame instead\n",
      "\n"
     ]
    },
    {
     "data": {
      "text/html": [
       "<iframe id=\"igraph\" scrolling=\"no\" style=\"border:none;\" seamless=\"seamless\" src=\"https://plot.ly/~saketh2plotly/51.embed\" height=\"525px\" width=\"100%\"></iframe>"
      ],
      "text/plain": [
       "<plotly.tools.PlotlyDisplay object>"
      ]
     },
     "execution_count": 51,
     "metadata": {},
     "output_type": "execute_result"
    }
   ],
   "source": [
    "\n",
    "Ranks = data['2018_Rank'].to_list()\n",
    "Change = data['%Change'].to_list()\n",
    "\n",
    "# Create a trace\n",
    "trace = go.Scatter(\n",
    "    x = Ranks,\n",
    "    y = Change,\n",
    "    text = data['City'],\n",
    "    mode = 'markers'\n",
    ")\n",
    "\n",
    "data1 = [trace]\n",
    "\n",
    "layout = dict(title = 'Change vs Ranks',\n",
    "              yaxis = dict(title = 'Percentage Change'),\n",
    "              xaxis = dict(title = 'Rank')\n",
    "             )\n",
    "\n",
    "# Plot and embed in ipython notebook!\n",
    "py.iplot(data1, filename='basic-scatter')"
   ]
  },
  {
   "cell_type": "code",
   "execution_count": 52,
   "metadata": {},
   "outputs": [],
   "source": [
    "#color scaling\n",
    "scl = [ [0,\"rgb(5, 10, 172)\"],[0.35,\"rgb(40, 60, 190)\"],[0.5,\"rgb(70, 100, 245)\"],\\\n",
    "    [0.6,\"rgb(90, 120, 245)\"],[0.7,\"rgb(106, 137, 247)\"],[1,\"rgb(220, 220, 220)\"] ]"
   ]
  },
  {
   "cell_type": "code",
   "execution_count": 54,
   "metadata": {},
   "outputs": [],
   "source": [
    "data['text'] = data['City']+', '+data['2010_Census'].astype(str)"
   ]
  },
  {
   "cell_type": "code",
   "execution_count": 56,
   "metadata": {},
   "outputs": [
    {
     "data": {
      "text/html": [
       "<iframe id=\"igraph\" scrolling=\"no\" style=\"border:none;\" seamless=\"seamless\" src=\"https://plot.ly/~saketh2plotly/63.embed\" height=\"525px\" width=\"100%\"></iframe>"
      ],
      "text/plain": [
       "<plotly.tools.PlotlyDisplay object>"
      ]
     },
     "execution_count": 56,
     "metadata": {},
     "output_type": "execute_result"
    }
   ],
   "source": [
    "# Population distribution\n",
    "\n",
    "data2 = [ go.Scattergeo(\n",
    "        locationmode = 'USA-states',\n",
    "        lon = data['longitude'].astype(float),\n",
    "        lat = data['latitude'].astype(float),\n",
    "        text = data['text'],\n",
    "        mode = 'markers',\n",
    "        marker = dict( \n",
    "            size = 8, \n",
    "            opacity = 0.5,\n",
    "            reversescale = True,\n",
    "            autocolorscale = False,\n",
    "            symbol = 'square',\n",
    "            line = dict(\n",
    "                width=1,\n",
    "                color='rgba(102, 102, 102)'\n",
    "            ),\n",
    "            colorscale = scl,\n",
    "            cmin = 0,\n",
    "            color = data['2010_Census'],\n",
    "            cmax = data['2010_Census'].max(),\n",
    "            colorbar=dict(\n",
    "                title=\"2010 census\"\n",
    "            )\n",
    "        ))]\n",
    "layout = dict(\n",
    "        title = 'Population Distribution', \n",
    "        geo = dict(\n",
    "            scope='usa',\n",
    "            projection=dict( type='albers usa' ),\n",
    "            showland = True,\n",
    "            landcolor = \"rgb(250, 250, 250)\",\n",
    "            subunitcolor = \"rgb(217, 217, 217)\",\n",
    "            countrycolor = \"rgb(217, 217, 217)\",\n",
    "            countrywidth = 0.5,\n",
    "            subunitwidth = 0.5        \n",
    "        ),\n",
    "    )\n",
    "fig = go.Figure(data=data2, layout=layout )\n",
    "py.iplot(fig, filename='City-Population' )"
   ]
  },
  {
   "cell_type": "code",
   "execution_count": 57,
   "metadata": {},
   "outputs": [],
   "source": [
    "# calculating city population by state\n",
    "\n",
    "state_population = {}\n",
    "for i in range(len(data['State'])):\n",
    "    state_population[data['State'][i]] = data[data['State']==data['State'][i]]['2010_Census'].sum()"
   ]
  },
  {
   "cell_type": "code",
   "execution_count": 58,
   "metadata": {},
   "outputs": [],
   "source": [
    "# color scale\n",
    "scl2 = [\n",
    "    [0.0, 'rgb(188,189,220)'],\n",
    "    [0.5, 'rgb(158,154,200)'],\n",
    "    [0.8, 'rgb(117,107,177)'],\n",
    "    [1.0, 'rgb(84,39,143)']\n",
    "]"
   ]
  },
  {
   "cell_type": "code",
   "execution_count": 59,
   "metadata": {},
   "outputs": [],
   "source": [
    "data['text2'] = data['State']"
   ]
  },
  {
   "cell_type": "code",
   "execution_count": 60,
   "metadata": {},
   "outputs": [
    {
     "data": {
      "text/html": [
       "<iframe id=\"igraph\" scrolling=\"no\" style=\"border:none;\" seamless=\"seamless\" src=\"https://plot.ly/~saketh2plotly/61.embed\" height=\"525px\" width=\"100%\"></iframe>"
      ],
      "text/plain": [
       "<plotly.tools.PlotlyDisplay object>"
      ]
     },
     "execution_count": 60,
     "metadata": {},
     "output_type": "execute_result"
    }
   ],
   "source": [
    "# Population distribution by state\n",
    "\n",
    "data3 = [go.Choropleth(\n",
    "    #colorscale = scl2,\n",
    "    autocolorscale = True,\n",
    "    locations = data['Abbreviations'],\n",
    "    z = pd.DataFrame(state_population.values()),\n",
    "    locationmode = 'USA-states',\n",
    "    text = data['text2'],\n",
    "    marker = go.choropleth.Marker(\n",
    "        line = go.choropleth.marker.Line(\n",
    "            color = 'rgb(255,255,255)',\n",
    "            width = 2\n",
    "        )),\n",
    "    colorbar = go.choropleth.ColorBar(\n",
    "        title = \"Millions USD\")\n",
    ")]\n",
    "\n",
    "layout = go.Layout(\n",
    "    title = go.layout.Title(\n",
    "        text = 'Population of Top cities by state'\n",
    "    ),\n",
    "    geo = go.layout.Geo(\n",
    "        scope = 'usa',\n",
    "        projection = go.layout.geo.Projection(type = 'albers usa'),\n",
    "        showlakes = True,\n",
    "        lakecolor = 'rgb(255, 255, 255)'),\n",
    ")\n",
    "\n",
    "fig = go.Figure(data = data3, layout = layout)\n",
    "py.iplot(fig, filename = 'd3-cloropleth-map')"
   ]
  },
  {
   "cell_type": "code",
   "execution_count": 61,
   "metadata": {},
   "outputs": [
    {
     "data": {
      "text/html": [
       "<iframe id=\"igraph\" scrolling=\"no\" style=\"border:none;\" seamless=\"seamless\" src=\"https://plot.ly/~saketh2plotly/65.embed\" height=\"525px\" width=\"100%\"></iframe>"
      ],
      "text/plain": [
       "<plotly.tools.PlotlyDisplay object>"
      ]
     },
     "execution_count": 61,
     "metadata": {},
     "output_type": "execute_result"
    }
   ],
   "source": [
    "# Distribution of white Race across cities\n",
    "\n",
    "data4 = [ go.Scattergeo(\n",
    "        locationmode = 'USA-states',\n",
    "        lon = data['longitude'].astype(float),\n",
    "        lat = data['latitude'].astype(float),\n",
    "        text = data['text'],\n",
    "        mode = 'markers',\n",
    "        marker = dict( \n",
    "            size = 8, \n",
    "            opacity = 0.5,\n",
    "            reversescale = True,\n",
    "            autocolorscale = False,\n",
    "            symbol = 'square',\n",
    "            line = dict(\n",
    "                width=1,\n",
    "                color='rgba(102, 102, 102)'\n",
    "            ),\n",
    "            colorscale = scl2,\n",
    "            cmin = 0,\n",
    "            color = data['White%'],\n",
    "            cmax = data['White%'].max(),\n",
    "            colorbar=dict(\n",
    "                title=\"2010 census\"\n",
    "            )\n",
    "        ))]\n",
    "layout = dict(\n",
    "        title = 'White Distribution', \n",
    "        geo = dict(\n",
    "            scope='usa',\n",
    "            projection=dict( type='albers usa' ),\n",
    "            showland = True,\n",
    "            landcolor = \"rgb(250, 250, 250)\",\n",
    "            subunitcolor = \"rgb(217, 217, 217)\",\n",
    "            countrycolor = \"rgb(217, 217, 217)\",\n",
    "            countrywidth = 0.5,\n",
    "            subunitwidth = 0.5        \n",
    "        ),\n",
    "    )\n",
    "fig = go.Figure(data=data4, layout=layout )\n",
    "py.iplot(fig, filename='white-distribution' )"
   ]
  },
  {
   "cell_type": "code",
   "execution_count": 62,
   "metadata": {},
   "outputs": [
    {
     "data": {
      "text/html": [
       "<iframe id=\"igraph\" scrolling=\"no\" style=\"border:none;\" seamless=\"seamless\" src=\"https://plot.ly/~saketh2plotly/67.embed\" height=\"525px\" width=\"100%\"></iframe>"
      ],
      "text/plain": [
       "<plotly.tools.PlotlyDisplay object>"
      ]
     },
     "execution_count": 62,
     "metadata": {},
     "output_type": "execute_result"
    }
   ],
   "source": [
    "# Distribuion on Black race across cities\n",
    "\n",
    "data5 = [ go.Scattergeo(\n",
    "        locationmode = 'USA-states',\n",
    "        lon = data['longitude'].astype(float),\n",
    "        lat = data['latitude'].astype(float),\n",
    "        text = data['text'],\n",
    "        mode = 'markers',\n",
    "        marker = dict( \n",
    "            size = 8, \n",
    "            opacity = 0.5,\n",
    "            reversescale = True,\n",
    "            autocolorscale = False,\n",
    "            symbol = 'square',\n",
    "            line = dict(\n",
    "                width=1,\n",
    "                color='rgba(102, 102, 102)'\n",
    "            ),\n",
    "            colorscale = scl,\n",
    "            cmin = 0,\n",
    "            color = data['White%'],\n",
    "            cmax = data['White%'].max(),\n",
    "            colorbar=dict(\n",
    "                title=\"2010 census\"\n",
    "            )\n",
    "        ))]\n",
    "layout = dict(\n",
    "        title = 'Black Distribution', \n",
    "        geo = dict(\n",
    "            scope='usa',\n",
    "            projection=dict( type='albers usa' ),\n",
    "            showland = True,\n",
    "            landcolor = \"rgb(250, 250, 250)\",\n",
    "            subunitcolor = \"rgb(217, 217, 217)\",\n",
    "            countrycolor = \"rgb(217, 217, 217)\",\n",
    "            countrywidth = 0.5,\n",
    "            subunitwidth = 0.5        \n",
    "        ),\n",
    "    )\n",
    "fig = go.Figure(data=data5, layout=layout )\n",
    "py.iplot(fig, filename='black-distribution' )"
   ]
  },
  {
   "cell_type": "markdown",
   "metadata": {},
   "source": [
    "## Final Thoughts"
   ]
  },
  {
   "cell_type": "markdown",
   "metadata": {},
   "source": [
    "Thank you for the opportunity to apply for the Data engineering position at Topos. I enjoyed working on this assignment very much. I created a [github repo](https://github.com/sakethchityala/Topos-Assignment) for this assignment.\n",
    "\n",
    "I also believe there is a better way to do some of the tasks and otimize the code to be more effieciet and intuitive. I will come back to this when I find time again."
   ]
  },
  {
   "cell_type": "markdown",
   "metadata": {},
   "source": [
    "     "
   ]
  },
  {
   "cell_type": "markdown",
   "metadata": {},
   "source": [
    "    "
   ]
  }
 ],
 "metadata": {
  "kernelspec": {
   "display_name": "Python 3",
   "language": "python",
   "name": "python3"
  },
  "language_info": {
   "codemirror_mode": {
    "name": "ipython",
    "version": 3
   },
   "file_extension": ".py",
   "mimetype": "text/x-python",
   "name": "python",
   "nbconvert_exporter": "python",
   "pygments_lexer": "ipython3",
   "version": "3.6.8"
  }
 },
 "nbformat": 4,
 "nbformat_minor": 2
}
